{
 "cells": [
  {
   "cell_type": "code",
   "execution_count": 113,
   "metadata": {},
   "outputs": [],
   "source": [
    "import pandas as pd\n",
    "import pandas_gbq\n",
    "import seaborn as sns\n",
    "import matplotlib.pyplot as plt"
   ]
  },
  {
   "cell_type": "code",
   "execution_count": 114,
   "metadata": {},
   "outputs": [],
   "source": [
    "\n",
    "pull = '''WITH data AS (\n",
    "SELECT \n",
    "  *,\n",
    "  DATE_TRUNC(date, WEEK(Sunday)) AS weekStart\n",
    "FROM \n",
    "  `chess-371023.chessPuzzles.puzzlesClean`\n",
    ")\n",
    "\n",
    "SELECT\n",
    "  weekStart,\n",
    "  SUM(score) AS score,\n",
    "  COUNT(*) AS puzzles,\n",
    "  ROUND(SUM(score)/COUNT(*)*100,2) AS pct,\n",
    "  round(ifnull(100 * (ROUND(SUM(score)/COUNT(*)*100,2)/lag(ROUND(SUM(score)/COUNT(*)*100,2)) over(ORDER BY weekStart) - 1), 0), 2) AS pct_chg\n",
    "FROM \n",
    "  data\n",
    "GROUP BY\n",
    "  weekStart\n",
    "ORDER BY\n",
    "  weekStart'''\n"
   ]
  },
  {
   "cell_type": "code",
   "execution_count": 115,
   "metadata": {},
   "outputs": [
    {
     "data": {
      "text/html": [
       "<div>\n",
       "<style scoped>\n",
       "    .dataframe tbody tr th:only-of-type {\n",
       "        vertical-align: middle;\n",
       "    }\n",
       "\n",
       "    .dataframe tbody tr th {\n",
       "        vertical-align: top;\n",
       "    }\n",
       "\n",
       "    .dataframe thead th {\n",
       "        text-align: right;\n",
       "    }\n",
       "</style>\n",
       "<table border=\"1\" class=\"dataframe\">\n",
       "  <thead>\n",
       "    <tr style=\"text-align: right;\">\n",
       "      <th></th>\n",
       "      <th>weekStart</th>\n",
       "      <th>score</th>\n",
       "      <th>puzzles</th>\n",
       "      <th>pct</th>\n",
       "      <th>pct_chg</th>\n",
       "    </tr>\n",
       "  </thead>\n",
       "  <tbody>\n",
       "    <tr>\n",
       "      <th>0</th>\n",
       "      <td>2022-12-04</td>\n",
       "      <td>4.5</td>\n",
       "      <td>10</td>\n",
       "      <td>45.0</td>\n",
       "      <td>0.00</td>\n",
       "    </tr>\n",
       "    <tr>\n",
       "      <th>1</th>\n",
       "      <td>2022-12-11</td>\n",
       "      <td>28.0</td>\n",
       "      <td>50</td>\n",
       "      <td>56.0</td>\n",
       "      <td>24.44</td>\n",
       "    </tr>\n",
       "    <tr>\n",
       "      <th>2</th>\n",
       "      <td>2022-12-18</td>\n",
       "      <td>37.5</td>\n",
       "      <td>60</td>\n",
       "      <td>62.5</td>\n",
       "      <td>11.61</td>\n",
       "    </tr>\n",
       "  </tbody>\n",
       "</table>\n",
       "</div>"
      ],
      "text/plain": [
       "    weekStart  score  puzzles   pct  pct_chg\n",
       "0  2022-12-04    4.5       10  45.0     0.00\n",
       "1  2022-12-11   28.0       50  56.0    24.44\n",
       "2  2022-12-18   37.5       60  62.5    11.61"
      ]
     },
     "execution_count": 115,
     "metadata": {},
     "output_type": "execute_result"
    }
   ],
   "source": [
    "data = pd.read_gbq(query=pull,project_id='chess-371023')\n",
    "\n",
    "data"
   ]
  },
  {
   "cell_type": "code",
   "execution_count": 116,
   "metadata": {},
   "outputs": [
    {
     "data": {
      "text/html": [
       "<div>\n",
       "<style scoped>\n",
       "    .dataframe tbody tr th:only-of-type {\n",
       "        vertical-align: middle;\n",
       "    }\n",
       "\n",
       "    .dataframe tbody tr th {\n",
       "        vertical-align: top;\n",
       "    }\n",
       "\n",
       "    .dataframe thead th {\n",
       "        text-align: right;\n",
       "    }\n",
       "</style>\n",
       "<table border=\"1\" class=\"dataframe\">\n",
       "  <thead>\n",
       "    <tr style=\"text-align: right;\">\n",
       "      <th></th>\n",
       "      <th>weekCode</th>\n",
       "      <th>score</th>\n",
       "      <th>puzzles</th>\n",
       "      <th>pct</th>\n",
       "    </tr>\n",
       "  </thead>\n",
       "  <tbody>\n",
       "    <tr>\n",
       "      <th>0</th>\n",
       "      <td>49-2022</td>\n",
       "      <td>4.5</td>\n",
       "      <td>10</td>\n",
       "      <td>45.0</td>\n",
       "    </tr>\n",
       "    <tr>\n",
       "      <th>1</th>\n",
       "      <td>50-2022</td>\n",
       "      <td>28.0</td>\n",
       "      <td>50</td>\n",
       "      <td>56.0</td>\n",
       "    </tr>\n",
       "    <tr>\n",
       "      <th>2</th>\n",
       "      <td>51-2022</td>\n",
       "      <td>37.5</td>\n",
       "      <td>60</td>\n",
       "      <td>62.0</td>\n",
       "    </tr>\n",
       "  </tbody>\n",
       "</table>\n",
       "</div>"
      ],
      "text/plain": [
       "  weekCode  score  puzzles   pct\n",
       "0  49-2022    4.5       10  45.0\n",
       "1  50-2022   28.0       50  56.0\n",
       "2  51-2022   37.5       60  62.0"
      ]
     },
     "execution_count": 116,
     "metadata": {},
     "output_type": "execute_result"
    }
   ],
   "source": [
    "weeklyScore = dataGroupedWeek\n",
    "\n",
    "weeklyScore['pct'] = round(weeklyScore['score']/weeklyScore['puzzles'],2)*100\n",
    "\n",
    "weeklyScore"
   ]
  }
 ],
 "metadata": {
  "kernelspec": {
   "display_name": "chessViz",
   "language": "python",
   "name": "python3"
  },
  "language_info": {
   "codemirror_mode": {
    "name": "ipython",
    "version": 3
   },
   "file_extension": ".py",
   "mimetype": "text/x-python",
   "name": "python",
   "nbconvert_exporter": "python",
   "pygments_lexer": "ipython3",
   "version": "3.10.8"
  },
  "orig_nbformat": 4,
  "vscode": {
   "interpreter": {
    "hash": "101609748178fc4b0a9092d9aa872b02e2e4e86bfe26fd683a3539b21cb6febc"
   }
  }
 },
 "nbformat": 4,
 "nbformat_minor": 2
}
